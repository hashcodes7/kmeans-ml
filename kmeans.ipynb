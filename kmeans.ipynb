import pandas as pd
import numpy as np
from sklearn.model_selection import train_test_split
from sklearn import metrics
from sklearn.metrics import accuracy_score
import matplotlib.pyplot as plt
from sklearn.neighbors import KNeighborsClassifier
#from sklearn.tree import DecisionTreeClassifier
# reading csv file
data = pd.read_csv("D:/ACER/2022-Even/DA LAb/R Program/Iris.csv");
# shape of dataset
print("Shape:", data.shape)
# column names
print("Iris Atrribute:", data.columns)
# storing the feature matrix (X) and response vector (y)
X = data[data.columns[1:-1]]
y = data[data.columns[-1]]
 # Split into training and test set
X_train, X_test, y_train, y_test = train_test_split(X, y, test_size=0.33, random_state=42)

knn = KNeighborsClassifier(n_neighbors=5)
knn.fit(X_train, y_train)
     
# Compute training and test data accuracy
train_accuracy = knn.score(X_train, y_train)

# making predictions on the testing set
y_pred = knn.predict (X_test)
# Find the KNN accuracy metrics by using:
test_accuracy=accuracy_score(y_test, y_pred)

print("kNN model accuracy:%f", train_accuracy)
print("kNN model accuracy:%f", test_accuracy)
sample= np.array([[3.5,0.5,2.6,1.8]])
y_pred = knn.predict(sample)
print("Predicted target name:",y_pred)
